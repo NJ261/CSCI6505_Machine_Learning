{
 "cells": [
  {
   "cell_type": "markdown",
   "metadata": {},
   "source": [
    "# Question 2:"
   ]
  },
  {
   "cell_type": "markdown",
   "metadata": {},
   "source": [
    "## Cross Validation"
   ]
  },
  {
   "cell_type": "markdown",
   "metadata": {},
   "source": [
    "#### Cross validation is a method which we can use to check how good model is before applying actual test data. We divide the whole data set into train and test data generally. But we can never know how good model is before applying the test data. So to overcome this problem we take some data from the training data and once the model is trained we check it across the trained model. Hence we can get an idea about avoid overfitting and performance for unseen data.\n",
    "\n",
    "#### K-fold cross validation: Here we divide the whole dataset into the k subset and take one of the k subsets as a test data and take remaining k-1 data as training set and we repeat this procedure k times. Then we take the average of accuracy from all k times. The main benefit is that data divided randomly hence each time test and train data will be different. so we can tell about model performance and how it can perform for unseen data."
   ]
  },
  {
   "cell_type": "markdown",
   "metadata": {},
   "source": [
    "Importing modules and reading data"
   ]
  },
  {
   "cell_type": "code",
   "execution_count": 1,
   "metadata": {},
   "outputs": [],
   "source": [
    "from random import seed\n",
    "import numpy as np\n",
    "from random import randrange\n",
    "from sklearn import svm\n",
    "from sklearn.ensemble import RandomForestClassifier\n",
    "import pandas as pd\n",
    "import seaborn as sns\n",
    "\n",
    "iris_data = np.loadtxt('iris.data',delimiter=',')"
   ]
  },
  {
   "cell_type": "markdown",
   "metadata": {},
   "source": [
    "Cross validation function which return train and test data set\n",
    "which takes dataset and fold value i.e k values as an input and divide it randomly"
   ]
  },
  {
   "cell_type": "code",
   "execution_count": 2,
   "metadata": {},
   "outputs": [],
   "source": [
    "def cross_validation(dataset, folds):\n",
    "    trainDataset = []\n",
    "    tempDataset = list(dataset)\n",
    "    \n",
    "    # foldsize\n",
    "    foldSize = int(len(dataset) / folds)\n",
    "    \n",
    "    for number in range(folds):\n",
    "        fold = []\n",
    "        while len(fold) < foldSize:\n",
    "            datasetIndexNumber = randrange(len(tempDataset))\n",
    "            fold.append(tempDataset.pop(datasetIndexNumber))\n",
    "            \n",
    "        trainDataset.append(fold)\n",
    "       \n",
    "    if len(dataset) % int(folds) == 0:\n",
    "        testDataset = trainDataset[-1:]\n",
    "        trainDataset.pop(-1)\n",
    "        \n",
    "    return trainDataset, testDataset"
   ]
  },
  {
   "cell_type": "markdown",
   "metadata": {},
   "source": [
    "setting cross-validation value to 10"
   ]
  },
  {
   "cell_type": "code",
   "execution_count": 3,
   "metadata": {},
   "outputs": [],
   "source": [
    "seed()\n",
    "count = 0\n",
    "SVM_Values, RF_Values = [], []\n",
    "cv = 10     # 10 fold cross validation"
   ]
  },
  {
   "cell_type": "markdown",
   "metadata": {},
   "source": [
    "This while loop run it based on cross validation value. Inside it will build the model and predict the values for SVM and RFC and will store it further for getting average."
   ]
  },
  {
   "cell_type": "code",
   "execution_count": 4,
   "metadata": {},
   "outputs": [],
   "source": [
    "while count < cv:\n",
    "    \n",
    "    # cross validation fucntion\n",
    "    trainDataset, testDataset = cross_validation(iris_data, cv)\n",
    "\n",
    "    # data transformation\n",
    "    tempTrainData = [item for sublist in trainDataset for item in sublist]\n",
    "    tempTestData = [item for sublist in testDataset for item in sublist]\n",
    "    \n",
    "    trainDataset = np.array(tempTrainData)\n",
    "    testDataset = np.array(tempTestData)\n",
    "    \n",
    "    # divide test and train set \n",
    "    x_train = trainDataset[:,0:-1]\n",
    "    y_train = trainDataset[:,-1]\n",
    "    \n",
    "    x_test = testDataset[:,0:4]\n",
    "    y_test = testDataset[:,4]\n",
    "    \n",
    "    # model\n",
    "    SVM_Model = svm.SVC(kernel='linear')\n",
    "    RF_Model = RandomForestClassifier(n_estimators=10)\n",
    "    \n",
    "    # training the model\n",
    "    SVM_Model.fit(x_train,y_train)\n",
    "    RF_Model.fit(x_train,y_train)\n",
    "    \n",
    "    # prediction\n",
    "    y_predicted_SVM = SVM_Model.predict(x_test)\n",
    "    y_predicted_RF = RF_Model.predict(x_test)\n",
    "    \n",
    "    # storing predicted values for getting mean\n",
    "    SVM_Values.append(np.mean(y_test == y_predicted_SVM))\n",
    "    RF_Values.append(np.mean(y_test == y_predicted_RF))\n",
    "\n",
    "    count = count + 1"
   ]
  },
  {
   "cell_type": "markdown",
   "metadata": {},
   "source": [
    "Mean of stored values for finding accuracy"
   ]
  },
  {
   "cell_type": "code",
   "execution_count": 5,
   "metadata": {},
   "outputs": [
    {
     "name": "stdout",
     "output_type": "stream",
     "text": [
      "Percentage correct (accuracy) of SVM :  0.9800000000000001\n",
      "Percentage correct (accuracy) of RFC :  0.9666666666666668\n"
     ]
    },
    {
     "data": {
      "image/png": "[encoded data removed]",
      "text/plain": [
       "<Figure size 432x288 with 1 Axes>"
      ]
     },
     "metadata": {},
     "output_type": "display_data"
    }
   ],
   "source": [
    "y_predicted_SVM_values = sum(SVM_Values) / cv\n",
    "y_predicted_RF_values = sum(RF_Values) / cv\n",
    "\n",
    "# plotting the graph\n",
    "dataFrame = pd.DataFrame(data={'Algorithm': ['SVM','RFC'],\n",
    "      'Accuracy':[(y_predicted_SVM_values * 100), (y_predicted_RF_values * 100)]})\n",
    "tempDataFrame = pd.melt(dataFrame,id_vars = ['Algorithm'],value_vars =['Accuracy'])\n",
    "my_plot = sns.barplot(x=\"Algorithm\", y=\"value\", data=tempDataFrame)\n",
    "\n",
    "#evaluation\n",
    "print('Percentage correct (accuracy) of SVM : ', y_predicted_SVM_values)\n",
    "print('Percentage correct (accuracy) of RFC : ', y_predicted_RF_values)"
   ]
  },
  {
   "cell_type": "markdown",
   "metadata": {},
   "source": [
    "Here, For this problem, SVM is better than Random Forest"
   ]
  }
 ],
 "metadata": {
  "kernelspec": {
   "display_name": "Python 3",
   "language": "python",
   "name": "python3"
  },
  "language_info": {
   "codemirror_mode": {
    "name": "ipython",
    "version": 3
   },
   "file_extension": ".py",
   "mimetype": "text/x-python",
   "name": "python",
   "nbconvert_exporter": "python",
   "pygments_lexer": "ipython3",
   "version": "3.6.5"
  }
 },
 "nbformat": 4,
 "nbformat_minor": 2
}
