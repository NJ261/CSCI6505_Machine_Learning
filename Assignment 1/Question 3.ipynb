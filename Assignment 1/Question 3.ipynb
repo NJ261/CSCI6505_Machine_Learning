{
 "cells": [
  {
   "cell_type": "markdown",
   "metadata": {},
   "source": [
    "# Question 3"
   ]
  },
  {
   "cell_type": "markdown",
   "metadata": {},
   "source": [
    "Approach:\n",
    "\n",
    "1. finding best parameters (using grid search) and then applying it to get the accuracy\n",
    "2. we found that RFC is more accurate than SVM and MLP classifier for this problem\n",
    "3. So we have used RFC to make prediction on test data"
   ]
  },
  {
   "cell_type": "markdown",
   "metadata": {},
   "source": [
    "Importing modules, fetching and splitting data for training and testing"
   ]
  },
  {
   "cell_type": "code",
   "execution_count": 1,
   "metadata": {},
   "outputs": [],
   "source": [
    "from sklearn.model_selection import train_test_split\n",
    "from sklearn import svm\n",
    "from sklearn.ensemble import RandomForestClassifier\n",
    "from sklearn.neural_network import MLPClassifier\n",
    "import numpy as np\n",
    "from sklearn.model_selection import StratifiedShuffleSplit\n",
    "from sklearn.model_selection import GridSearchCV\n",
    "import pandas as pd\n",
    "import seaborn as sns\n",
    "\n",
    "# loading the data\n",
    "wine_train = np.loadtxt('wine.train',delimiter=',')\n",
    "wine_test = np.loadtxt('wine.test',delimiter=',')\n",
    "\n",
    "x = wine_train[:, 1:13]\n",
    "y = wine_train[:, 0]\n",
    "X_Test = wine_test[:, 1:13]\n",
    "\n",
    "x_train, x_test, y_train, y_test = train_test_split(x,y)"
   ]
  },
  {
   "cell_type": "markdown",
   "metadata": {},
   "source": [
    "Finding the best parameters for SVM classifier"
   ]
  },
  {
   "cell_type": "code",
   "execution_count": 2,
   "metadata": {},
   "outputs": [
    {
     "name": "stdout",
     "output_type": "stream",
     "text": [
      "The best parameters for SVM are {'C': 0.1, 'gamma': 1e-09}\n"
     ]
    }
   ],
   "source": [
    "# finding best parameter for SVM\n",
    "C_range = np.logspace(-2, 10, 13)\n",
    "gamma_range = np.logspace(-9, 3, 13)\n",
    "param_grid = dict(gamma=gamma_range, C=C_range)\n",
    "\n",
    "#cross validation for SVM\n",
    "cv_SVM = StratifiedShuffleSplit(n_splits=15, test_size=0.2, random_state=0)\n",
    "grid_SVM = GridSearchCV(svm.SVC(kernel='linear'), param_grid=param_grid, cv=cv_SVM)\n",
    "grid_SVM.fit(x_train, y_train)\n",
    "\n",
    "print(\"The best parameters for SVM are %s\" % (grid_SVM.best_params_))"
   ]
  },
  {
   "cell_type": "markdown",
   "metadata": {},
   "source": [
    "Applying founded parameters to train the SVM model"
   ]
  },
  {
   "cell_type": "code",
   "execution_count": 3,
   "metadata": {},
   "outputs": [
    {
     "name": "stdout",
     "output_type": "stream",
     "text": [
      "Percentage correct (accuracy) of SVM :  0.9666666666666667\n"
     ]
    }
   ],
   "source": [
    "c = grid_SVM.best_params_['C']\n",
    "gamma = grid_SVM.best_params_['gamma']\n",
    "model_SVM = svm.SVC(kernel='linear', C=c, gamma=gamma)\n",
    "model_SVM.fit(x_train, y_train)\n",
    "y_predicted_SVM = model_SVM.predict(x_test)\n",
    "SVM_Accuracy = np.mean(y_test == y_predicted_SVM) * 100\n",
    "print('Percentage correct (accuracy) of SVM : ', np.mean(y_test == y_predicted_SVM))"
   ]
  },
  {
   "cell_type": "markdown",
   "metadata": {},
   "source": [
    "Finding the best parameters for RF classifier"
   ]
  },
  {
   "cell_type": "code",
   "execution_count": 4,
   "metadata": {},
   "outputs": [
    {
     "name": "stdout",
     "output_type": "stream",
     "text": [
      "The best parameters for RFC are {'max_depth': 4, 'max_features': 'auto', 'n_estimators': 10}\n"
     ]
    }
   ],
   "source": [
    "param_grid = { \n",
    "    'n_estimators': [10, 60],\n",
    "    'max_features': ['auto', 'sqrt', 'log2'],\n",
    "    'max_depth' : [4,7]\n",
    "}\n",
    "\n",
    "temp_model_RF = RandomForestClassifier(n_estimators=10)\n",
    "cv_RFC = GridSearchCV(estimator=temp_model_RF, param_grid=param_grid, cv= 10)\n",
    "cv_RFC.fit(x_train,y_train)\n",
    "print(\"The best parameters for RFC are %s\" % (cv_RFC.best_params_))"
   ]
  },
  {
   "cell_type": "markdown",
   "metadata": {},
   "source": [
    "Applying founded parameters to train the RF model"
   ]
  },
  {
   "cell_type": "code",
   "execution_count": 5,
   "metadata": {},
   "outputs": [
    {
     "name": "stdout",
     "output_type": "stream",
     "text": [
      "Percentage correct (accuracy) of RFC :  1.0\n"
     ]
    },
    {
     "name": "stderr",
     "output_type": "stream",
     "text": [
      "C:\\Users\\nirav\\Anaconda3\\lib\\site-packages\\sklearn\\ensemble\\forest.py:453: UserWarning: Some inputs do not have OOB scores. This probably means too few trees were used to compute any reliable oob estimates.\n",
      "  warn(\"Some inputs do not have OOB scores. \"\n",
      "C:\\Users\\nirav\\Anaconda3\\lib\\site-packages\\sklearn\\ensemble\\forest.py:458: RuntimeWarning: invalid value encountered in true_divide\n",
      "  predictions[k].sum(axis=1)[:, np.newaxis])\n"
     ]
    }
   ],
   "source": [
    "max_depth = cv_RFC.best_params_['max_depth']\n",
    "max_features = cv_RFC.best_params_['max_features']\n",
    "n_estimators = cv_RFC.best_params_['n_estimators']\n",
    "\n",
    "# training RF classifier\n",
    "model_RF = RandomForestClassifier(n_estimators=n_estimators, bootstrap=True, max_features = max_features,\n",
    "                                    max_depth = max_depth,min_samples_split =3, n_jobs = -1,\n",
    "                                    random_state = 0, verbose = 0,oob_score = True)\n",
    "model_RF.fit(x_train,y_train)\n",
    "y_predicted_RF = model_RF.predict(x_test)\n",
    "RFC_Accuracy = np.mean(y_test == y_predicted_RF) * 100\n",
    "print('Percentage correct (accuracy) of RFC : ', np.mean(y_test == y_predicted_RF))"
   ]
  },
  {
   "cell_type": "markdown",
   "metadata": {},
   "source": [
    "Training the MLP classifier"
   ]
  },
  {
   "cell_type": "code",
   "execution_count": 6,
   "metadata": {},
   "outputs": [
    {
     "name": "stdout",
     "output_type": "stream",
     "text": [
      "Percentage correct (accuracy) of MLP :  0.4\n"
     ]
    }
   ],
   "source": [
    "model_MLP= MLPClassifier(hidden_layer_sizes=(10, 20, 10))\n",
    "model_MLP.fit(x_train,y_train)\n",
    "y_predicted_MLP = model_MLP.predict(x_test)\n",
    "MLP_Accuracy = np.mean(y_test == y_predicted_MLP)* 100\n",
    "print('Percentage correct (accuracy) of MLP : ', np.mean(y_test == y_predicted_MLP))"
   ]
  },
  {
   "cell_type": "code",
   "execution_count": 7,
   "metadata": {},
   "outputs": [
    {
     "data": {
      "image/png": "[encoded data removed]",
      "text/plain": [
       "<Figure size 432x288 with 1 Axes>"
      ]
     },
     "metadata": {},
     "output_type": "display_data"
    }
   ],
   "source": [
    "# plotting the grapgh\n",
    "\n",
    "dataFrame = pd.DataFrame(data={'Algorithm': ['SVM','RFC', 'MLP'],\n",
    "      'Accuracy':[SVM_Accuracy, RFC_Accuracy, MLP_Accuracy]})\n",
    "tempDataFrame = pd.melt(dataFrame,id_vars = ['Algorithm'],value_vars =['Accuracy'])\n",
    "my_plot = sns.barplot(x=\"Algorithm\", y=\"value\", data=tempDataFrame)"
   ]
  },
  {
   "cell_type": "markdown",
   "metadata": {},
   "source": [
    "We can see that RF Classifier is more accuate than the rest of 2 algorithms. Hence, we will use it to predict the test values"
   ]
  },
  {
   "cell_type": "code",
   "execution_count": 8,
   "metadata": {},
   "outputs": [
    {
     "name": "stdout",
     "output_type": "stream",
     "text": [
      "Predictions is saved in CSV file\n"
     ]
    }
   ],
   "source": [
    "# applying test data\n",
    "y_predicted = model_RF.predict(X_Test)\n",
    "np.savetxt('output.csv', y_predicted)\n",
    "print(\"Predictions is saved in CSV file\")"
   ]
  }
 ],
 "metadata": {
  "kernelspec": {
   "display_name": "Python 3",
   "language": "python",
   "name": "python3"
  },
  "language_info": {
   "codemirror_mode": {
    "name": "ipython",
    "version": 3
   },
   "file_extension": ".py",
   "mimetype": "text/x-python",
   "name": "python",
   "nbconvert_exporter": "python",
   "pygments_lexer": "ipython3",
   "version": "3.6.5"
  }
 },
 "nbformat": 4,
 "nbformat_minor": 2
}
